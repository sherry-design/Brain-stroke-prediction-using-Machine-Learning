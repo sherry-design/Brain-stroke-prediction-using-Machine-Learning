{
 "cells": [
  {
   "cell_type": "code",
   "execution_count": 1,
   "id": "33349428-9682-4dbc-b9ae-4637b9d73c63",
   "metadata": {},
   "outputs": [],
   "source": [
    "import requests\n",
    "import numpy as np # linear algebra\n",
    "import pandas as pd # data processing, CSV file I/O (e.g. pd.read_csv)\n",
    "import os\n",
    "for dirname, _, filenames in os.walk('/kaggle/input'):\n",
    "    for filename in filenames:\n",
    "        print(os.path.join(dirname, filename))\n"
   ]
  },
  {
   "cell_type": "code",
   "execution_count": 2,
   "id": "59824cdd-8449-491d-bcb4-ec9a1dd95a31",
   "metadata": {},
   "outputs": [],
   "source": [
    "import pandas as pd\n",
    "import numpy as np\n",
    "import matplotlib.pyplot as plt\n",
    "from sklearn.preprocessing import StandardScaler\n",
    "import seaborn as sns\n",
    "sns.set(style=\"darkgrid\")"
   ]
  },
  {
   "cell_type": "code",
   "execution_count": 3,
   "id": "26e49664",
   "metadata": {},
   "outputs": [],
   "source": [
    "import sklearn\n",
    "\n",
    "print(\"Scikit-learn version:\", sklearn.__version__)\n"
   ]
  },
  {
   "cell_type": "code",
   "execution_count": 4,
   "id": "1770e561-25b8-4b84-b464-cbba9f92429f",
   "metadata": {},
   "outputs": [],
   "source": [
    "all_data = pd.read_csv(r\"D:\\MinorProject\\LAB\\StrokeOpus\\healthcare-dataset-stroke-data (2).csv\")"
   ]
  },
  {
   "cell_type": "code",
   "execution_count": 5,
   "id": "8e4f99d6-992b-478f-8f0c-8d908ecc0669",
   "metadata": {},
   "outputs": [],
   "source": [
    "all_data"
   ]
  },
  {
   "cell_type": "code",
   "execution_count": 6,
   "id": "f0423f4f",
   "metadata": {},
   "outputs": [],
   "source": [
    "from sklearn.impute import KNNImputer"
   ]
  },
  {
   "cell_type": "code",
   "execution_count": 7,
   "id": "d3a3b433",
   "metadata": {},
   "outputs": [],
   "source": [
    "imputer = KNNImputer(n_neighbors = 5)\n",
    "all_data['bmi'] = imputer.fit_transform(all_data[['bmi']])"
   ]
  },
  {
   "cell_type": "code",
   "execution_count": 8,
   "id": "8a9a6c25",
   "metadata": {},
   "outputs": [],
   "source": [
    "all_data.isna().sum()"
   ]
  },
  {
   "cell_type": "code",
   "execution_count": 9,
   "id": "d2ed4896-e71e-4f48-8000-c42f893bccc2",
   "metadata": {},
   "outputs": [],
   "source": [
    "target = 'stroke'\n",
    "X = all_data.loc[:,all_data.columns!=target]\n",
    "y = all_data.loc[:,all_data.columns==target]"
   ]
  },
  {
   "cell_type": "code",
   "execution_count": 10,
   "id": "ab781894-1976-4c8a-8e83-3cc25e0384cc",
   "metadata": {},
   "outputs": [],
   "source": [
    "columns = ['gender', 'age', 'hypertension', 'heart_disease', 'ever_married',\n",
    "       'work_type', 'Residence_type', 'avg_glucose_level', 'bmi',\n",
    "       'smoking_status']\n",
    "X = pd.get_dummies(X[columns])"
   ]
  },
  {
   "cell_type": "code",
   "execution_count": 11,
   "id": "89761ec2-85e2-40c2-b934-fe0fb844c9c6",
   "metadata": {},
   "outputs": [],
   "source": [
    "ax = sns.countplot(x=target,data=all_data) #seaborn plot garne count plot y axis x ma stroke halne\n",
    "print(all_data[target].value_counts())"
   ]
  },
  {
   "cell_type": "code",
   "execution_count": 12,
   "id": "e2d3d07e-eb09-49da-a6a5-6facd4fab2d3",
   "metadata": {},
   "outputs": [],
   "source": [
    "percentage_no_stroke = 100*(4733/float(all_data.shape[0])) #total number of cases\n",
    "percentage_no_stroke"
   ]
  },
  {
   "cell_type": "code",
   "execution_count": 13,
   "id": "1979e9da-a2e2-4e5b-9868-b70be701ee96",
   "metadata": {},
   "outputs": [],
   "source": [
    "percentage_yes_stroke = 100*(248/float(all_data.shape[0]))\n",
    "percentage_yes_stroke"
   ]
  },
  {
   "cell_type": "code",
   "execution_count": 14,
   "id": "106d0888-484c-4cc8-932a-5c3968e043c9",
   "metadata": {},
   "outputs": [],
   "source": [
    "import seaborn as sns\n",
    "from sklearn.datasets import make_classification\n"
   ]
  },
  {
   "cell_type": "code",
   "execution_count": 15,
   "id": "df1fb35c",
   "metadata": {},
   "outputs": [],
   "source": [
    "from imblearn.over_sampling import SMOTE\n",
    "\n",
    "oversample = SMOTE()\n",
    "X, y = oversample.fit_resample(X, y)"
   ]
  },
  {
   "cell_type": "code",
   "execution_count": 16,
   "id": "b7fa93bf-6b7a-41f3-9fa2-d239fb8c6ee5",
   "metadata": {},
   "outputs": [],
   "source": [
    "ax = sns.countplot(x=target,data=y)\n",
    "print(y[target].value_counts())"
   ]
  },
  {
   "cell_type": "code",
   "execution_count": 17,
   "id": "7296cfbb-66a0-4663-bc4a-7d565b599cde",
   "metadata": {},
   "outputs": [],
   "source": [
    "from sklearn.model_selection import train_test_split\n",
    "\n",
    "X_train, X_test, Y_train, Y_test = train_test_split(X,y, test_size=0.20, shuffle=True)"
   ]
  },
  {
   "cell_type": "code",
   "execution_count": 18,
   "id": "6bee9d07-186e-4a80-8945-a406240a38f7",
   "metadata": {},
   "outputs": [],
   "source": [
    "print(Y_train[target].value_counts())\n"
   ]
  },
  {
   "cell_type": "code",
   "execution_count": 19,
   "id": "b1d6ea16",
   "metadata": {},
   "outputs": [],
   "source": [
    "min_values = X_train.min()\n",
    "max_values = X_train.max()\n",
    "print(\"Min Values:\", min_values)\n",
    "print(\"Max Values:\", max_values)\n"
   ]
  },
  {
   "cell_type": "code",
   "execution_count": 20,
   "id": "bbd6443a-f8c6-4d87-83da-e293f4dfddab",
   "metadata": {},
   "outputs": [],
   "source": [
    "from sklearn.ensemble import RandomForestClassifier\n",
    "\n",
    "def rf(X_train, Y_train, n_estimators=250):\n",
    " feature_names = X.columns\n",
    " rndforest = RandomForestClassifier(n_estimators=n_estimators, n_jobs=-1)\n",
    " rndforest.fit(X_train, Y_train)\n",
    " return rndforest #This fits (trains) the Random Forest model on the training data."
   ]
  },
  {
   "cell_type": "code",
   "execution_count": 21,
   "id": "386b2f31",
   "metadata": {},
   "outputs": [],
   "source": [
    "random_forest_en = rf(X_train,Y_train.values.ravel(), n_estimators=250)"
   ]
  },
  {
   "cell_type": "code",
   "execution_count": 22,
   "id": "7d16f415-26e3-4c22-8331-e81f51802261",
   "metadata": {},
   "outputs": [],
   "source": [
    "from sklearn.metrics import accuracy_score, precision_score, recall_score, f1_score\n",
    "from sklearn.metrics import classification_report\n",
    "y_true = all_data['stroke']\n",
    "threshold=0.4\n",
    "y_pred = (random_forest_en.predict_proba(X_test)[:, 1] > threshold).astype(int)\n",
    "print(classification_report(Y_test, y_pred))"
   ]
  },
  {
   "cell_type": "code",
   "execution_count": 23,
   "id": "ed76f4cd-f5c5-47c9-97f4-a3d5e611af07",
   "metadata": {},
   "outputs": [],
   "source": [
    "feature_importances = random_forest_en.feature_importances_\n",
    "feature_names = X.columns"
   ]
  },
  {
   "cell_type": "code",
   "execution_count": 24,
   "id": "f122d80d-97dc-4b33-81f4-9b6be6736462",
   "metadata": {},
   "outputs": [],
   "source": [
    "feature_importance_df = pd.DataFrame({\n",
    "    'Feature': feature_names,\n",
    "    'Importance': feature_importances\n",
    "})\n",
    "\n",
    "# Sort the DataFrame by importance in descending order\n",
    "feature_importance_df = feature_importance_df.sort_values(by='Importance', ascending=False)\n",
    "\n",
    "# Display the feature importance DataFrame\n",
    "print(\"\\nFeature Importance Scores:\")\n",
    "print(feature_importance_df)\n",
    "\n",
    "# Plotting feature importance\n",
    "plt.figure(figsize=(12, 6))\n",
    "sns.barplot(x='Importance', y='Feature', data=feature_importance_df)\n",
    "plt.title('Random Forest Feature Importance')\n",
    "plt.show()"
   ]
  },
  {
   "cell_type": "code",
   "execution_count": 25,
   "id": "775971e1",
   "metadata": {},
   "outputs": [],
   "source": [
    "from sklearn.ensemble import RandomForestClassifier\n",
    "from sklearn import metrics\n",
    "rf = RandomForestClassifier()\n",
    "rf.fit(X_train, Y_train.values.ravel())\n",
    "y_pred = rf.predict(X_test)\n",
    "print(\"Accuracy:\",metrics.accuracy_score(Y_test, y_pred))"
   ]
  },
  {
   "cell_type": "code",
   "execution_count": 26,
   "id": "e50ee057-16fd-4b3e-9fae-5a6c580ebd96",
   "metadata": {},
   "outputs": [],
   "source": [
    "accuracy = accuracy_score(Y_test, y_pred)\n",
    "precision = precision_score(Y_test, y_pred)\n",
    "recall = recall_score(Y_test, y_pred)\n",
    "f1 = f1_score(Y_test, y_pred)\n",
    "print(f'Accuracy: {accuracy}')\n",
    "print(f'Precision: {precision}')\n",
    "print(f'Recall: {recall}')\n"
   ]
  },
  {
   "cell_type": "code",
   "execution_count": 27,
   "id": "3b2e5a33-cf99-4e2d-8d4a-0d3173dca78a",
   "metadata": {},
   "outputs": [],
   "source": [
    "import itertools\n",
    "def plot_confusion_matrix(model, X, y, class_names, file_name,\n",
    "                          normalize=False,\n",
    "                          title='CONFUSION MATRIX',\n",
    "                          cmap=plt.cm.Greys):\n",
    "    y_pred = model.predict(X)\n",
    "    # Compute confusion matrix\n",
    "    cnf_matrix  = confusion_matrix(y, y_pred)\n",
    "    np.set_printoptions(precision=1)\n",
    "    plt.figure(figsize=(18, 16))\n",
    "\n",
    "    if normalize:\n",
    "        cnf_matrix = cnf_matrix.astype('float') / cnf_matrix.sum(axis=1)[:, np.newaxis]\n",
    "        print(\"CONFUSION MATRIX\")\n",
    "    else:\n",
    "        print('CONFUSION MATRIX')\n",
    "\n",
    "    plt.imshow(cnf_matrix, interpolation='nearest', cmap=cmap)\n",
    "    plt.title('CONFUSION MATRIX')\n",
    "    plt.colorbar()\n",
    "    tick_marks = np.arange(len(class_names))\n",
    "    plt.xticks(tick_marks, class_names, rotation=90)\n",
    "    plt.yticks(tick_marks, class_names)\n",
    "\n",
    "    fmt = '.2f' if normalize else 'd'\n",
    "    thresh = cnf_matrix.max() / 2.\n",
    "    for i, j in itertools.product(range(cnf_matrix.shape[0]), range(cnf_matrix.shape[1])):\n",
    "        plt.text(j, i, format(cnf_matrix[i, j], fmt),\n",
    "                 horizontalalignment=\"center\",\n",
    "                 color=\"white\" if cnf_matrix[i, j] > thresh else \"black\")\n",
    "\n",
    "    plt.ylabel('CLASS')\n",
    "    plt.xlabel('PREDICTED CLASS')\n",
    "    plt.tight_layout()\n",
    "    plt.savefig(file_name+'.png')\n",
    "    plt.show()"
   ]
  },
  {
   "cell_type": "code",
   "execution_count": 28,
   "id": "7c7bf6b9-5d10-4f5a-864d-3e7edb21775b",
   "metadata": {},
   "outputs": [],
   "source": [
    "from sklearn.metrics import confusion_matrix\n",
    "\n",
    "LABELS = ['STROKE', 'NO_STROKE']\n",
    "plot_confusion_matrix(random_forest_en, X_train, Y_train, class_names=LABELS, file_name='ConfussionMatrix', normalize=True)"
   ]
  },
  {
   "cell_type": "code",
   "execution_count": 29,
   "id": "1db03a19-ea1c-4ee8-9425-41af5faeb82a",
   "metadata": {},
   "outputs": [],
   "source": [
    "#saving the model\n",
    "import pickle\n",
    "\n",
    "# Save the trained model\n",
    "with open('GARO.pkl', 'wb') as model_file:\n",
    "    pickle.dump(random_forest_en, model_file)"
   ]
  },
  {
   "cell_type": "code",
   "execution_count": 30,
   "id": "b75352eb-904f-4b41-9f9e-69eaac4a4f90",
   "metadata": {},
   "outputs": [],
   "source": [
    "with open('GARO.pkl', 'rb') as model_file:\n",
    "    model = pickle.load(model_file)"
   ]
  },
  {
   "cell_type": "code",
   "execution_count": 31,
   "id": "7f41fd27-72ba-46cf-a497-b91eccca04c5",
   "metadata": {},
   "outputs": [],
   "source": [
    "print(X.columns)"
   ]
  },
  {
   "cell_type": "code",
   "execution_count": 32,
   "id": "86bb65f0-1053-4b96-b5ec-447582de7c21",
   "metadata": {},
   "outputs": [],
   "source": [
    "input_data=pd.DataFrame([[50,1,1,100,21,0,1,0,0,1,0,0,1,0,0,1,0,0,0,0,1]],columns=['age', 'hypertension', 'heart_disease', 'avg_glucose_level', 'bmi',\n",
    "       'gender_Female', 'gender_Male', 'gender_Other', 'ever_married_No',\n",
    "       'ever_married_Yes', 'work_type_Govt_job', 'work_type_Never_worked',\n",
    "       'work_type_Private', 'work_type_Self-employed', 'work_type_children',\n",
    "       'Residence_type_Rural', 'Residence_type_Urban',\n",
    "       'smoking_status_Unknown', 'smoking_status_formerly smoked',\n",
    "       'smoking_status_never smoked', 'smoking_status_smokes'])"
   ]
  },
  {
   "cell_type": "code",
   "execution_count": 33,
   "id": "adf25d02",
   "metadata": {
    "scrolled": true
   },
   "outputs": [],
   "source": [
    "model.predict(input_data)"
   ]
  },
  {
   "cell_type": "code",
   "execution_count": null,
   "id": "80cf792d",
   "metadata": {},
   "outputs": [],
   "source": [
    "from sklearn.model_selection import GridSearchCV\n",
    "\n"
   ]
  },
  {
   "cell_type": "code",
   "execution_count": null,
   "id": "b7d24350",
   "metadata": {},
   "outputs": [],
   "source": []
  }
 ],
 "metadata": {
  "kernelspec": {
   "display_name": "Python 3 (ipykernel)",
   "language": "python",
   "name": "python3"
  },
  "language_info": {
   "codemirror_mode": {
    "name": "ipython",
    "version": 3
   },
   "file_extension": ".py",
   "mimetype": "text/x-python",
   "name": "python",
   "nbconvert_exporter": "python",
   "pygments_lexer": "ipython3",
   "version": "3.11.3"
  }
 },
 "nbformat": 4,
 "nbformat_minor": 5
}
